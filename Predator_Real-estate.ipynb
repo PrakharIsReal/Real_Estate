{
 "cells": [
  {
   "cell_type": "markdown",
   "id": "c6e92d78",
   "metadata": {},
   "source": [
    "Price Predictor"
   ]
  },
  {
   "cell_type": "code",
   "execution_count": 1,
   "id": "84fb33e1",
   "metadata": {},
   "outputs": [],
   "source": [
    "import pandas as pd"
   ]
  },
  {
   "cell_type": "code",
   "execution_count": null,
   "id": "76cb97ff",
   "metadata": {},
   "outputs": [],
   "source": [
    "housing = pd.read_csv(\"data\")"
   ]
  },
  {
   "cell_type": "code",
   "execution_count": null,
   "id": "7b671f15",
   "metadata": {},
   "outputs": [],
   "source": [
    "housing.head()"
   ]
  },
  {
   "cell_type": "code",
   "execution_count": null,
   "id": "60aec1d3",
   "metadata": {},
   "outputs": [],
   "source": []
  }
 ],
 "metadata": {
  "kernelspec": {
   "display_name": "Python 3 (ipykernel)",
   "language": "python",
   "name": "python3"
  },
  "language_info": {
   "codemirror_mode": {
    "name": "ipython",
    "version": 3
   },
   "file_extension": ".py",
   "mimetype": "text/x-python",
   "name": "python",
   "nbconvert_exporter": "python",
   "pygments_lexer": "ipython3",
   "version": "3.10.1"
  }
 },
 "nbformat": 4,
 "nbformat_minor": 5
}
